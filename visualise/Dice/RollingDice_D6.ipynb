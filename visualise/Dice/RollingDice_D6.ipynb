{
 "cells": [
  {
   "cell_type": "markdown",
   "metadata": {},
   "source": [
    "<head>\n",
    "    <div style=\"text-align: center; font-size:24px; padding: 10px\">Rolling Dice With Pygal</div>\n",
    "    <div style=\"text-align: center; font-size:14px; font-style:italic\">The study of rolling dice is often used in mathematics to explain various types of data analysis. But it also has real-world applications in casinos and\n",
    "other gambling scenarios, as well as in the fun games like Monopoly.</div>\n",
    "</head>\n",
    "\n",
    "\n",
    "<body>\n",
    "    <img src=\"images/dice.jpg\"\n",
    "     alt=\"Molecule\"\n",
    "     style=\"float: center\" />\n",
    "    <ol>\n",
    "        <li>In this project I analyze the results of rolling dice.</li>\n",
    "        <li>I then try to determine which numbers are most likely to occur by generating a data set that represents rolling dice.</li>\n",
    "        <li>And Finally, plot the results of a large number of rolls to determine which results are more likely than others.</li>\n",
    "    </ol>\n",
    "</body>\n"
   ]
  },
  {
   "cell_type": "markdown",
   "metadata": {},
   "source": [
    "# Creating a die class"
   ]
  },
  {
   "cell_type": "code",
   "execution_count": 17,
   "metadata": {},
   "outputs": [],
   "source": [
    "from random import randint\n",
    "\n",
    "class Die():\n",
    "    \"\"\"A class representing a single die\"\"\"\n",
    "    def __init__(self, num_sides=6):\n",
    "        \"\"\"Assume 6 sided die\"\"\"\n",
    "        self.num_sides=num_sides\n",
    "        \n",
    "    def roll_die(self):\n",
    "        \"\"\"Return a random value between 1 and num of sides\"\"\"\n",
    "        return randint(1, self.num_sides)"
   ]
  },
  {
   "cell_type": "markdown",
   "metadata": {},
   "source": [
    "# Create a Die D6 and Roll a single D6"
   ]
  },
  {
   "cell_type": "code",
   "execution_count": 6,
   "metadata": {},
   "outputs": [
    {
     "name": "stdout",
     "output_type": "stream",
     "text": [
      "[172, 160, 160, 169, 155, 184]\n"
     ]
    }
   ],
   "source": [
    "\n",
    "die = Die()\n",
    "\n",
    "# Make Some Rolls and store it in a list\n",
    "results = []\n",
    "for roll_num in range(1000):\n",
    "    result = die.roll_die()\n",
    "    results.append(result)\n",
    "\n",
    "# print(results)\n",
    "\n",
    "# Analyse the result\n",
    "frequencies = []\n",
    "for val in range(1, die.num_sides+1):\n",
    "    frequency = results.count(val)\n",
    "    frequencies.append(frequency)\n",
    "print(frequencies)"
   ]
  },
  {
   "cell_type": "code",
   "execution_count": 8,
   "metadata": {},
   "outputs": [],
   "source": [
    "# Visualise the result using a histogram, pygal\n",
    "# Die val vs Frequency\n",
    "\n",
    "import pygal\n",
    "\n",
    "hist = pygal.Bar()\n",
    "hist.title = \"Results of rolling one D6 1000 times\"\n",
    "hist.x_labels = list(range(1,7))\n",
    "hist.x_title = \"Die Value (Result)\"\n",
    "hist.y_title = \"Frequency of Result\"\n",
    "\n",
    "hist.add('D6',frequencies)\n",
    "hist.render_to_file('images/die_visual.svg')\n",
    "\n"
   ]
  },
  {
   "cell_type": "markdown",
   "metadata": {},
   "source": [
    "<img src=\"images/die_visual.svg\"\n",
    "     alt=\"Molecule\"\n",
    "     style=\"float: center\" />\n",
    "     \n",
    "<ol>\n",
    "    <li> Find the image in Dice/images/die_visual.svg \n",
    "</ol>"
   ]
  },
  {
   "cell_type": "markdown",
   "metadata": {},
   "source": [
    "# Rolling Two Die:"
   ]
  },
  {
   "cell_type": "code",
   "execution_count": 11,
   "metadata": {},
   "outputs": [],
   "source": [
    "\n",
    "import pygal\n",
    "\n",
    "# Create two D6 die\n",
    "die_1 = Die()\n",
    "die_2 = Die()\n",
    "\n",
    "# Make some rolls and store the sum in a list:\n",
    "results =[]\n",
    "for roll in range(1000):\n",
    "    result = die_1.roll_die() + die_2.roll_die()\n",
    "    results.append(result)\n",
    "    \n",
    "# Analyse the result\n",
    "frequencies = []\n",
    "max_result = die_1.num_sides + die_2.num_sides\n",
    "\n",
    "for value in range(2,max_result+1):\n",
    "    frequency=results.count(value)\n",
    "    frequencies.append(frequency)"
   ]
  },
  {
   "cell_type": "code",
   "execution_count": 12,
   "metadata": {},
   "outputs": [],
   "source": [
    "# Visualise the data using pygal\n",
    "\n",
    "hist = pygal.Bar()\n",
    "\n",
    "hist.title = \"Results of rolling two D6 die 1000 times\"\n",
    "hist.x_labels = list(range(2,max_result+1))\n",
    "hist.x_title = \"Result\"\n",
    "hist.y_title = \"Frequency of Result\"\n",
    "\n",
    "hist.add('D6+D6',frequencies)\n",
    "hist.render_to_file('images/dice_visual_2.svg')\n"
   ]
  },
  {
   "cell_type": "markdown",
   "metadata": {},
   "source": [
    "<img src=\"images/dice_visual_2.svg\"\n",
    "     alt=\"Dice 2\"\n",
    "     style=\"float: center\" />\n",
    "     \n",
    "<ol>\n",
    "    <li> Find the image in Dice/images/dice_visual_2.svg \n",
    "</ol>"
   ]
  },
  {
   "cell_type": "markdown",
   "metadata": {},
   "source": [
    "# Visualising a roll of D6 and D10 Die"
   ]
  },
  {
   "cell_type": "code",
   "execution_count": 18,
   "metadata": {},
   "outputs": [],
   "source": [
    "\n",
    "import pygal\n",
    "\n",
    "# Create two D6 die\n",
    "die_1 = Die()\n",
    "die_2 = Die(10)\n",
    "\n",
    "# Make some rolls and store the sum in a list:\n",
    "results =[]\n",
    "for roll in range(50000):\n",
    "    result = die_1.roll_die() + die_2.roll_die()\n",
    "    results.append(result)\n",
    "    \n",
    "# Analyse the result\n",
    "frequencies = []\n",
    "max_result = die_1.num_sides + die_2.num_sides\n",
    "\n",
    "for value in range(2,max_result+1):\n",
    "    frequency=results.count(value)\n",
    "    frequencies.append(frequency)"
   ]
  },
  {
   "cell_type": "code",
   "execution_count": 19,
   "metadata": {},
   "outputs": [],
   "source": [
    "# Visualise the data using pygal\n",
    "\n",
    "hist = pygal.Bar()\n",
    "\n",
    "hist.title = \"Results of rolling a D6 and a D10 die 1000 times\"\n",
    "hist.x_labels = list(range(2,max_result+1))\n",
    "hist.x_title = \"Result\"\n",
    "hist.y_title = \"Frequency of Result\"\n",
    "\n",
    "hist.add('D6+D10',frequencies)\n",
    "hist.render_to_file('images/dice_visual_3.svg')\n"
   ]
  },
  {
   "cell_type": "markdown",
   "metadata": {},
   "source": [
    "<img src=\"images/dice_visual_3.svg\"\n",
    "     alt=\"Dice 2\"\n",
    "     style=\"float: center\" />\n",
    "     \n",
    "<ol>\n",
    "    <li> Find the image in Dice/images/dice_visual_3.svg \n",
    "</ol>"
   ]
  },
  {
   "cell_type": "markdown",
   "metadata": {},
   "source": [
    "# Two D8s:"
   ]
  },
  {
   "cell_type": "code",
   "execution_count": 21,
   "metadata": {},
   "outputs": [],
   "source": [
    "\n",
    "import pygal\n",
    "\n",
    "# Create two D6 die\n",
    "die_1 = Die(8)\n",
    "die_2 = Die(8)\n",
    "\n",
    "# Make some rolls and store the sum in a list:\n",
    "results =[]\n",
    "for roll in range(1000000):\n",
    "    result = die_1.roll_die() + die_2.roll_die()\n",
    "    results.append(result)\n",
    "    \n",
    "# Analyse the result\n",
    "frequencies = []\n",
    "max_result = die_1.num_sides + die_2.num_sides\n",
    "\n",
    "for value in range(2,max_result+1):\n",
    "    frequency=results.count(value)\n",
    "    frequencies.append(frequency)"
   ]
  },
  {
   "cell_type": "code",
   "execution_count": 27,
   "metadata": {},
   "outputs": [],
   "source": [
    "# Visualise the data using pygal\n",
    "\n",
    "hist = pygal.Bar()\n",
    "\n",
    "hist.title = \"Results of rolling two D8 die 1000000 times\"\n",
    "hist.x_labels = list(range(2,max_result+1))\n",
    "hist.x_title = \"Result\"\n",
    "hist.y_title = \"Frequency of Result\"\n",
    "\n",
    "hist.add('D8+D8',frequencies)\n",
    "hist.render_to_file('images/dice_visual_D8.svg')\n"
   ]
  },
  {
   "cell_type": "markdown",
   "metadata": {},
   "source": [
    "<img src=\"images/dice_visual_D8.svg\"\n",
    "     alt=\"Dice 2\"\n",
    "     style=\"float: center\" />\n",
    "     \n",
    "<ol>\n",
    "    <li> Find the image in Dice/images/dice_visual_D8.svg \n",
    "</ol>"
   ]
  },
  {
   "cell_type": "markdown",
   "metadata": {},
   "source": [
    "# Rolling Three D6 Die"
   ]
  },
  {
   "cell_type": "code",
   "execution_count": 28,
   "metadata": {},
   "outputs": [],
   "source": [
    "\n",
    "import pygal\n",
    "\n",
    "# Create three D6 die\n",
    "die_1 = Die(6)\n",
    "die_2 = Die(6)\n",
    "die_3 = Die(6)\n",
    "\n",
    "# Make some rolls and store the sum in a list:\n",
    "results =[]\n",
    "for roll in range(1000000):\n",
    "    result = die_1.roll_die() + die_2.roll_die() + die_3.roll_die()\n",
    "    results.append(result)\n",
    "    \n",
    "# Analyse the result\n",
    "frequencies = []\n",
    "max_result = die_1.num_sides + die_2.num_sides + die_3.num_sides\n",
    "\n",
    "for value in range(3,max_result+1):\n",
    "    frequency=results.count(value)\n",
    "    frequencies.append(frequency)"
   ]
  },
  {
   "cell_type": "code",
   "execution_count": 29,
   "metadata": {},
   "outputs": [],
   "source": [
    "# Visualise the data using pygal\n",
    "\n",
    "hist = pygal.Bar()\n",
    "\n",
    "hist.title = \"Results of rolling three D6 die 50000 times\"\n",
    "hist.x_labels = list(range(3,max_result+1))\n",
    "hist.x_title = \"Result\"\n",
    "hist.y_title = \"Frequency of Result\"\n",
    "\n",
    "hist.add('D6+D6+D6',frequencies)\n",
    "hist.render_to_file('images/dice_visual_3_D6.svg')\n"
   ]
  },
  {
   "cell_type": "markdown",
   "metadata": {},
   "source": [
    "<img src=\"images/dice_visual_3_D6.svg\"\n",
    "     alt=\"Dice 2\"\n",
    "     style=\"float: center\" />\n",
    "     \n",
    "<ol>\n",
    "    <li> Find the image in Dice/images/dice_visual_3_D6.svg \n",
    "</ol>"
   ]
  },
  {
   "cell_type": "markdown",
   "metadata": {},
   "source": [
    "# What if the results of the Die are Multiplied instead of added\n",
    "### (Test case using two D6 die)"
   ]
  },
  {
   "cell_type": "code",
   "execution_count": 47,
   "metadata": {},
   "outputs": [
    {
     "name": "stdout",
     "output_type": "stream",
     "text": [
      "{2: 2774, 3: 2736, 4: 4196, 5: 2720, 6: 5460, 8: 2808, 9: 1344, 10: 2793, 12: 5667, 15: 2758, 16: 1361, 18: 2777, 20: 2752, 24: 2774, 25: 1348, 30: 2959, 36: 1339}\n"
     ]
    }
   ],
   "source": [
    "\n",
    "import pygal\n",
    "\n",
    "# Create two D6 die\n",
    "die_1 = Die()\n",
    "die_2 = Die()\n",
    "\n",
    "# Make some rolls and store the sum in a list:\n",
    "results =[]\n",
    "for roll in range(50000):\n",
    "    result = die_1.roll_die() * die_2.roll_die()\n",
    "    results.append(result)\n",
    "#print(results)    \n",
    "# Analyse the result\n",
    "frequencies = {}\n",
    "max_result = die_1.num_sides * die_2.num_sides\n",
    "\n",
    "for value in range(1,max_result+1):\n",
    "    frequencies[value]=results.count(value)\n",
    "    \n",
    "frequencies = {k: v for k, v in frequencies.items() if v != 0}\n",
    "print(frequencies)"
   ]
  },
  {
   "cell_type": "code",
   "execution_count": 32,
   "metadata": {},
   "outputs": [],
   "source": [
    "# Visualise the data using pygal\n",
    "\n",
    "hist = pygal.Bar()\n",
    "\n",
    "hist.title = \"Results of rolling two D6 die 1000 times\"\n",
    "hist.x_labels = frequencies.keys()\n",
    "hist.x_title = \"Result (Product of the two values)\"\n",
    "hist.y_title = \"Frequency of Result\"\n",
    "\n",
    "hist.add('D6+D6',frequencies)\n",
    "hist.render_to_file('images/dice_visual_D6_Mul.svg')\n"
   ]
  },
  {
   "cell_type": "markdown",
   "metadata": {},
   "source": [
    "<img src=\"images/dice_visual_D6_Mul.svg\"\n",
    "     alt=\"Dice 2\"\n",
    "     style=\"float: center\" />\n",
    "     \n",
    "<ol>\n",
    "    <li> Find the image in Dice/images/dice_visual_D6_Mul.svg \n",
    "</ol>"
   ]
  },
  {
   "cell_type": "markdown",
   "metadata": {},
   "source": [
    "# Visualising using Matplotlib"
   ]
  },
  {
   "cell_type": "code",
   "execution_count": 61,
   "metadata": {},
   "outputs": [],
   "source": [
    "import matplotlib.pyplot as plt\n",
    "import numpy as np"
   ]
  },
  {
   "cell_type": "code",
   "execution_count": 74,
   "metadata": {},
   "outputs": [
    {
     "name": "stdout",
     "output_type": "stream",
     "text": [
      "{1: 841, 2: 831, 3: 862, 4: 816, 5: 852, 6: 798}\n"
     ]
    }
   ],
   "source": [
    "die = Die()\n",
    "\n",
    "# Make Some Rolls and store it in a list\n",
    "results = []\n",
    "for roll_num in range(5000):\n",
    "    result = die.roll_die()\n",
    "    results.append(result)\n",
    "\n",
    "# print(results)\n",
    "\n",
    "# Analyse the result\n",
    "frequencies = {}\n",
    "for value in range(1, die.num_sides+1):\n",
    "    frequencies[value]=results.count(value)\n",
    "    \n",
    "frequencies = {k: v for k, v in frequencies.items() if v != 0}\n",
    "print(frequencies)"
   ]
  },
  {
   "cell_type": "code",
   "execution_count": 75,
   "metadata": {},
   "outputs": [
    {
     "data": {
      "image/png": "[encoded data removed]",
      "text/plain": [
       "<matplotlib.figure.Figure at 0x7fcd79ad05c0>"
      ]
     },
     "metadata": {},
     "output_type": "display_data"
    }
   ],
   "source": [
    "names = list(frequencies.keys())\n",
    "values = list(frequencies.values())\n",
    "range_graph = range(len(frequencies))\n",
    "\n",
    "plt.bar(range_graph, values, tick_label=names, align='center')\n",
    "plt.show()"
   ]
  },
  {
   "cell_type": "code",
   "execution_count": null,
   "metadata": {},
   "outputs": [],
   "source": []
  }
 ],
 "metadata": {
  "kernelspec": {
   "display_name": "cv",
   "language": "python",
   "name": "cv"
  },
  "language_info": {
   "codemirror_mode": {
    "name": "ipython",
    "version": 3
   },
   "file_extension": ".py",
   "mimetype": "text/x-python",
   "name": "python",
   "nbconvert_exporter": "python",
   "pygments_lexer": "ipython3",
   "version": "3.5.2"
  }
 },
 "nbformat": 4,
 "nbformat_minor": 2
}
